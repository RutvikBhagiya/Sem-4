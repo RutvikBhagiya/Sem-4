{
 "cells": [
  {
   "cell_type": "markdown",
   "metadata": {},
   "source": [
    "<a href='https://www.darshan.ac.in/'> <img src='https://www.darshan.ac.in/Content/media/DU_Logo.svg' width=\"250\" height=\"300\"/></a>\n",
    "<pre>\n",
    "<center><b><h1>Python Programming - 2301CS404</b></center>\n",
    "<center><b><h1>Lab - 8</b></center>\n",
    "<center><b><h1>Rutvik Bhagiya</b></center>\n",
    "<center><b><h1>23010101016</b></center>\n",
    "<center><b><h1>11-01-2025</b></center>\n",
    "<pre>"
   ]
  },
  {
   "cell_type": "markdown",
   "metadata": {},
   "source": [
    "# User Defined Function"
   ]
  },
  {
   "cell_type": "markdown",
   "metadata": {
    "jp-MarkdownHeadingCollapsed": true
   },
   "source": [
    "### 01) Write a function to calculate BMI given mass and height. (BMI = mass/h**2)"
   ]
  },
  {
   "cell_type": "code",
   "execution_count": 5,
   "metadata": {},
   "outputs": [
    {
     "name": "stdin",
     "output_type": "stream",
     "text": [
      "Enter Mass: 3\n",
      "Enter Height: 1\n"
     ]
    },
    {
     "name": "stdout",
     "output_type": "stream",
     "text": [
      "BMI is:  3.0\n"
     ]
    }
   ],
   "source": [
    "def bmiCalculate():\n",
    "    m = float(input(\"Enter Mass:\"))\n",
    "    h = float(input(\"Enter Height:\"))\n",
    "    bmi = m/(h**2)\n",
    "    print(\"BMI is: \",bmi)\n",
    "bmiCalculate()"
   ]
  },
  {
   "cell_type": "markdown",
   "metadata": {
    "jp-MarkdownHeadingCollapsed": true
   },
   "source": [
    "### 02) Write a function that add first n numbers."
   ]
  },
  {
   "cell_type": "code",
   "execution_count": 10,
   "metadata": {},
   "outputs": [
    {
     "name": "stdout",
     "output_type": "stream",
     "text": [
      "Addition of first  5  Numbers is:  15\n"
     ]
    }
   ],
   "source": [
    "def addFirstNNum(n):\n",
    "    ans=0\n",
    "    for i in range(n+1):\n",
    "        ans+=i\n",
    "    print(\"Addition of first \",n,\" Numbers is: \",ans)\n",
    "addFirstNNum(5)"
   ]
  },
  {
   "cell_type": "markdown",
   "metadata": {},
   "source": [
    "### 03) Write a function that returns 1 if the given number is Prime or 0 otherwise."
   ]
  },
  {
   "cell_type": "code",
   "execution_count": 23,
   "metadata": {},
   "outputs": [
    {
     "name": "stdout",
     "output_type": "stream",
     "text": [
      "0\n"
     ]
    }
   ],
   "source": [
    "def primeOrNot(n):\n",
    "    if n==1:\n",
    "        return 0 \n",
    "    for i in range(2,(n//2)+1):\n",
    "        if n%i==0:\n",
    "            return 0\n",
    "    return 1\n",
    "print(primeOrNot(4))"
   ]
  },
  {
   "cell_type": "markdown",
   "metadata": {},
   "source": [
    "### 04) Write a function that returns the list of Prime numbers between given two numbers."
   ]
  },
  {
   "cell_type": "code",
   "execution_count": 5,
   "metadata": {},
   "outputs": [
    {
     "name": "stdout",
     "output_type": "stream",
     "text": [
      "[2, 3, 5, 7, 11, 13, 17, 19]\n"
     ]
    }
   ],
   "source": [
    "def primeBetweenNo(n1,n2):\n",
    "    li=[]\n",
    "    for j in range(n1,n2+1):\n",
    "        if j==1:\n",
    "            continue\n",
    "        for i in range(2,(j//2)+1):\n",
    "            if j%i==0:\n",
    "                break;\n",
    "        else:\n",
    "            li.append(j)\n",
    "    print(li)\n",
    "primeBetweenNo(1,19)"
   ]
  },
  {
   "cell_type": "markdown",
   "metadata": {},
   "source": [
    "### 05) Write a function that returns True if the given string is Palindrome or False otherwise."
   ]
  },
  {
   "cell_type": "code",
   "execution_count": 16,
   "metadata": {},
   "outputs": [
    {
     "name": "stdout",
     "output_type": "stream",
     "text": [
      "False\n"
     ]
    }
   ],
   "source": [
    "def palindromeStr(mystr):\n",
    "    if mystr == mystr[::-1]:\n",
    "        return True\n",
    "    return False\n",
    "print(palindromeStr('Asa'))"
   ]
  },
  {
   "cell_type": "markdown",
   "metadata": {},
   "source": [
    "### 06) Write a function that returns the sum of all the elements of the list."
   ]
  },
  {
   "cell_type": "code",
   "execution_count": 3,
   "metadata": {},
   "outputs": [
    {
     "name": "stdout",
     "output_type": "stream",
     "text": [
      "15\n"
     ]
    }
   ],
   "source": [
    "def sumEleList(myli):\n",
    "    sum=0\n",
    "    for i in myli:\n",
    "        sum+=i\n",
    "    return sum\n",
    "li = [1,2,3,4,5]\n",
    "print(sumEleList(li))"
   ]
  },
  {
   "cell_type": "markdown",
   "metadata": {},
   "source": [
    "### 07) Write a function to calculate the sum of the first element of each tuples inside the list."
   ]
  },
  {
   "cell_type": "code",
   "execution_count": 9,
   "metadata": {},
   "outputs": [
    {
     "name": "stdout",
     "output_type": "stream",
     "text": [
      "The sum of the first elements is: 9\n"
     ]
    }
   ],
   "source": [
    "def sum_of_first_elements(tuple_list):\n",
    "    return sum(t[0] for t in tuple_list)\n",
    "              \n",
    "tuples = [(1, 2), (3, 4), (5, 6)]\n",
    "print(\"The sum of the first elements is:\" ,sum_of_first_elements(tuples))"
   ]
  },
  {
   "cell_type": "markdown",
   "metadata": {},
   "source": [
    "### 08) Write a recursive function to find nth term of Fibonacci Series."
   ]
  },
  {
   "cell_type": "code",
   "execution_count": null,
   "metadata": {},
   "outputs": [],
   "source": [
    "def fibonacci(n):\n",
    "    if n!=1:\n",
    "        return fibonacci(n*(n-1))\n",
    "    return n\n",
    "print(fibonacci(6))"
   ]
  },
  {
   "cell_type": "markdown",
   "metadata": {},
   "source": [
    "### 09) Write a function to get the name of the student based on the given rollno.\n",
    "#### Example: Given dict1 = {101:'Ajay', 102:'Rahul', 103:'Jay', 104:'Pooja'} find name of student whose rollno = 103"
   ]
  },
  {
   "cell_type": "code",
   "execution_count": null,
   "metadata": {},
   "outputs": [],
   "source": [
    "def get_student_name(rollno, student_dict):\n",
    "    return student_dict.get(rollno, \"Roll number not found\")\n",
    "\n",
    "dict1 = {101: 'Ajay', 102: 'Rahul', 103: 'Jay', 104: 'Pooja'}\n",
    "print(get_student_name(103, dict1))"
   ]
  },
  {
   "cell_type": "markdown",
   "metadata": {},
   "source": [
    "### 10) Write a function to get the sum of the scores ending with zero.\n",
    "#### Example : scores = [200, 456, 300, 100, 234, 678] \n",
    "#### Ans = 200 + 300 + 100 = 600"
   ]
  },
  {
   "cell_type": "code",
   "execution_count": 5,
   "metadata": {},
   "outputs": [
    {
     "name": "stdout",
     "output_type": "stream",
     "text": [
      "500\n"
     ]
    }
   ],
   "source": [
    "def sum_end_with_zero(score_list):\n",
    "    sum=0\n",
    "    for i in score_list:\n",
    "        if i%10==0:\n",
    "            sum+=i\n",
    "    return sum\n",
    "list = [201,100,340,10,234,345,50]\n",
    "print(sum_end_with_zero(list))"
   ]
  },
  {
   "cell_type": "markdown",
   "metadata": {},
   "source": [
    "### 11) Write a function to invert a given Dictionary.\n",
    "#### hint: keys to values & values to keys\n",
    "#### Before : {'a': 10, 'b':20, 'c':30, 'd':40}\n",
    "#### After : {10:'a', 20:'b', 30:'c', 40:'d'}"
   ]
  },
  {
   "cell_type": "code",
   "execution_count": 6,
   "metadata": {},
   "outputs": [
    {
     "data": {
      "text/plain": [
       "{10: 'a', 20: 'b', 30: 'c'}"
      ]
     },
     "execution_count": 6,
     "metadata": {},
     "output_type": "execute_result"
    }
   ],
   "source": [
    "def invert_dictionary(d):\n",
    "    return {v: k for k, v in d.items()}\n",
    "    \n",
    "invert_dictionary({'a':10,'b':20,'c':30})"
   ]
  },
  {
   "cell_type": "markdown",
   "metadata": {},
   "source": [
    "### 12) Write a function to check whether the given string is Pangram or not.\n",
    "#### hint: Pangram is a string containing all the characters a-z atlest once.\n",
    "#### \"the quick brown fox jumps over the lazy dog\" is a Pangram string."
   ]
  },
  {
   "cell_type": "code",
   "execution_count": 8,
   "metadata": {},
   "outputs": [
    {
     "data": {
      "text/plain": [
       "False"
      ]
     },
     "execution_count": 8,
     "metadata": {},
     "output_type": "execute_result"
    }
   ],
   "source": [
    "def is_pangram(s):\n",
    "    return set(\"abcdefghijklmnopqrstuvwxyz\").issubset(s.lower())\n",
    "    \n",
    "is_pangram('the brown fox quick jumps over the lazy dog')"
   ]
  },
  {
   "cell_type": "markdown",
   "metadata": {},
   "source": [
    "### 13) Write a function that returns the number of uppercase and lowercase letters in the given string. \n",
    "#### example : Input : s1 = AbcDEfgh ,Ouptput : no_upper = 3, no_lower = 5"
   ]
  },
  {
   "cell_type": "code",
   "execution_count": 3,
   "metadata": {},
   "outputs": [
    {
     "name": "stdout",
     "output_type": "stream",
     "text": [
      "Upper Count: 6 Lower Count 6\n"
     ]
    }
   ],
   "source": [
    "def check_case(mystr):\n",
    "    uppercount=0\n",
    "    lowercount=0\n",
    "    for i in mystr:\n",
    "        if i.isupper():\n",
    "            uppercount+=1\n",
    "        else:\n",
    "            lowercount+=1\n",
    "    return uppercount,lowercount\n",
    "\n",
    "no_upper,no_lower=check_case(\"sfASFtuiGRdH\")\n",
    "print(\"Upper Count:\",no_upper,\"Lower Count\",no_upper)"
   ]
  },
  {
   "cell_type": "markdown",
   "metadata": {},
   "source": [
    "### 14) Write a lambda function to get smallest number from the given two numbers."
   ]
  },
  {
   "cell_type": "code",
   "execution_count": 2,
   "metadata": {},
   "outputs": [
    {
     "name": "stdout",
     "output_type": "stream",
     "text": [
      "1\n"
     ]
    }
   ],
   "source": [
    "smallest = lambda x, y: x if x < y else y\n",
    "\n",
    "print(smallest(5,1))"
   ]
  },
  {
   "cell_type": "markdown",
   "metadata": {},
   "source": [
    "### 15) For the given list of names of students, extract the names having more that 7 characters. Use filter()."
   ]
  },
  {
   "cell_type": "code",
   "execution_count": 1,
   "metadata": {},
   "outputs": [
    {
     "name": "stdout",
     "output_type": "stream",
     "text": [
      "['marko jansen']\n"
     ]
    }
   ],
   "source": [
    "def filter_long_names(names):\n",
    "    name_filterd = list(filter(lambda name: len(name) > 7, names))\n",
    "    return name_filterd\n",
    "    \n",
    "print(filter_long_names(['harry','sejal','marko jansen']))"
   ]
  },
  {
   "cell_type": "markdown",
   "metadata": {},
   "source": [
    "### 16) For the given list of names of students, convert the first letter of all the names into uppercase. use map()."
   ]
  },
  {
   "cell_type": "code",
   "execution_count": 5,
   "metadata": {},
   "outputs": [
    {
     "name": "stdout",
     "output_type": "stream",
     "text": [
      "['Rohit', 'Mohit', 'Janak', 'Rashik']\n"
     ]
    }
   ],
   "source": [
    "students = [\"rohit\",\"mohit\",\"janak\",\"rashik\"]\n",
    "first_upper = list(map(str.capitalize,students))\n",
    "print(first_upper)"
   ]
  },
  {
   "cell_type": "markdown",
   "metadata": {},
   "source": [
    "### 17) Write udfs to call the functions with following types of arguments:\n",
    "1. Positional Arguments\n",
    "2. Keyword Arguments\n",
    "3. Default Arguments\n",
    "4. Variable Legngth Positional(*args) & variable length Keyword Arguments (**kwargs)\n",
    "5. Keyword-Only & Positional Only Arguments"
   ]
  },
  {
   "cell_type": "code",
   "execution_count": 20,
   "metadata": {},
   "outputs": [
    {
     "name": "stdout",
     "output_type": "stream",
     "text": [
      "15\n",
      "15\n",
      "10\n",
      "8\n",
      "Positional arguments: (1, 2, 3)\n",
      "Keyword arguments: {'name': 'hello', 'sem': 10}\n",
      "(1, 2, 3)\n"
     ]
    },
    {
     "ename": "TypeError",
     "evalue": "keyword_positional_only() got some positional-only arguments passed as keyword arguments: 'a'",
     "output_type": "error",
     "traceback": [
      "\u001b[1;31m---------------------------------------------------------------------------\u001b[0m",
      "\u001b[1;31mTypeError\u001b[0m                                 Traceback (most recent call last)",
      "Cell \u001b[1;32mIn[20], line 34\u001b[0m\n\u001b[0;32m     31\u001b[0m \u001b[38;5;28mprint\u001b[39m(keyword_positional_only(\u001b[38;5;241m1\u001b[39m, b\u001b[38;5;241m=\u001b[39m\u001b[38;5;241m2\u001b[39m, c\u001b[38;5;241m=\u001b[39m\u001b[38;5;241m3\u001b[39m))\n\u001b[0;32m     32\u001b[0m \u001b[38;5;66;03m# print(keyword_positional_only(1, 2, c=3)) #it will work because 'b' is positional\u001b[39;00m\n\u001b[0;32m     33\u001b[0m \u001b[38;5;66;03m# print(keyword_positional_only(1, 2, 3)) # it will give error bcs 'c' is keyword only\u001b[39;00m\n\u001b[1;32m---> 34\u001b[0m \u001b[38;5;28mprint\u001b[39m(\u001b[43mkeyword_positional_only\u001b[49m\u001b[43m(\u001b[49m\u001b[43ma\u001b[49m\u001b[38;5;241;43m=\u001b[39;49m\u001b[38;5;241;43m1\u001b[39;49m\u001b[43m,\u001b[49m\u001b[43m \u001b[49m\u001b[43mb\u001b[49m\u001b[38;5;241;43m=\u001b[39;49m\u001b[38;5;241;43m2\u001b[39;49m\u001b[43m,\u001b[49m\u001b[43m \u001b[49m\u001b[43mc\u001b[49m\u001b[38;5;241;43m=\u001b[39;49m\u001b[38;5;241;43m3\u001b[39;49m\u001b[43m)\u001b[49m) \n",
      "\u001b[1;31mTypeError\u001b[0m: keyword_positional_only() got some positional-only arguments passed as keyword arguments: 'a'"
     ]
    }
   ],
   "source": [
    "#1.positional\n",
    "def positional_argu(a, b):\n",
    "    return a + b\n",
    "\n",
    "print(positional_argu(5, 10))\n",
    "\n",
    "#2.keyword\n",
    "def keyword_argu(a, b):\n",
    "    return a + b\n",
    "\n",
    "print(keyword_argu(a=5, b=10))\n",
    "\n",
    "#3.Default\n",
    "def default_argu(a,b=3):\n",
    "    return a+b\n",
    "\n",
    "print(default_argu(5,5))\n",
    "print(default_argu(5))\n",
    "\n",
    "#Variable Legngth Positional(*args) & variable length Keyword Arguments (**kwargs)\n",
    "def variable_argu(*args, **kwargs):\n",
    "    print(\"Positional arguments:\", args)\n",
    "    print(\"Keyword arguments:\", kwargs)\n",
    "\n",
    "variable_args(1, 2, 3, name=\"hello\", sem=10)\n",
    "\n",
    "#Keyword-Only & Positional Only Arguments\n",
    "# '/' used for positional only and used after variable declaration which we want to positional only\n",
    "# '*' used for keyword only and used before variable declaration which we want to keyword only\n",
    "def keyword_positional_only(a, /, b, *, c):\n",
    "    return (a,b,c)\n",
    "\n",
    "print(keyword_positional_only(1, b=2, c=3))\n",
    "# print(keyword_positional_only(a=1, b=2, c=3)) # it will give error bcs 'a' is positional only\n",
    "# print(keyword_positional_only(1, 2, c=3)) #it will work because 'b' is not positional or not keyword only\n",
    "# print(keyword_positional_only(1, 2, 3)) # it will give error bcs 'c' is keyword only"
   ]
  },
  {
   "cell_type": "code",
   "execution_count": null,
   "metadata": {},
   "outputs": [],
   "source": []
  }
 ],
 "metadata": {
  "kernelspec": {
   "display_name": "Python 3 (ipykernel)",
   "language": "python",
   "name": "python3"
  },
  "language_info": {
   "codemirror_mode": {
    "name": "ipython",
    "version": 3
   },
   "file_extension": ".py",
   "mimetype": "text/x-python",
   "name": "python",
   "nbconvert_exporter": "python",
   "pygments_lexer": "ipython3",
   "version": "3.12.7"
  }
 },
 "nbformat": 4,
 "nbformat_minor": 4
}
